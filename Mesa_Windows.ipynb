{
 "cells": [
  {
   "cell_type": "code",
   "execution_count": null,
   "metadata": {
    "collapsed": false
   },
   "outputs": [
    {
     "ename": "ImportError",
     "evalue": "No module named 'mesa.visualization.ipython'",
     "output_type": "error",
     "traceback": [
      "\u001b[0;31m---------------------------------------------------------------------------\u001b[0m",
      "\u001b[0;31mImportError\u001b[0m                               Traceback (most recent call last)",
      "\u001b[0;32m<ipython-input-146-215613569e15>\u001b[0m in \u001b[0;36m<module>\u001b[0;34m()\u001b[0m\n\u001b[1;32m      1\u001b[0m \u001b[1;32mfrom\u001b[0m \u001b[0mmesa\u001b[0m \u001b[1;32mimport\u001b[0m \u001b[0mAgent\u001b[0m\u001b[1;33m,\u001b[0m \u001b[0mModel\u001b[0m\u001b[1;33m\u001b[0m\u001b[0m\n\u001b[0;32m----> 2\u001b[0;31m \u001b[1;32mfrom\u001b[0m \u001b[0mmesa\u001b[0m\u001b[1;33m.\u001b[0m\u001b[0mvisualization\u001b[0m\u001b[1;33m.\u001b[0m\u001b[0mipython\u001b[0m \u001b[1;32mimport\u001b[0m \u001b[0mVisualizer\u001b[0m\u001b[1;33m\u001b[0m\u001b[0m\n\u001b[0m",
      "\u001b[0;31mImportError\u001b[0m: No module named 'mesa.visualization.ipython'"
     ]
    }
   ],
   "source": [
    "from mesa import Agent, Model\n",
    "from mesa.visualization.ipython import Visualizer"
   ]
  },
  {
   "cell_type": "code",
   "execution_count": 130,
   "metadata": {
    "collapsed": true
   },
   "outputs": [],
   "source": [
    "from mesa.time import RandomActivation "
   ]
  },
  {
   "cell_type": "code",
   "execution_count": 131,
   "metadata": {
    "collapsed": false
   },
   "outputs": [],
   "source": [
    "from mesa.datacollection import DataCollector"
   ]
  },
  {
   "cell_type": "code",
   "execution_count": 132,
   "metadata": {
    "collapsed": true
   },
   "outputs": [],
   "source": [
    "from mesa.batchrunner import BatchRunner"
   ]
  },
  {
   "cell_type": "code",
   "execution_count": 133,
   "metadata": {
    "collapsed": false
   },
   "outputs": [
    {
     "data": {
      "text/plain": [
       "\"'This imports the data collector for exporting data, the batch runner for running experiments (similar to Netlogo's BehaviorSpace) and the Mesa Library. So far, on my windows machine, I have installed: 1) Miniconda, 2) the Mesa Python library and 3) add updates. Feel free to message me if you require help. KMM\""
      ]
     },
     "execution_count": 133,
     "metadata": {},
     "output_type": "execute_result"
    }
   ],
   "source": [
    "''''This imports the data collector for exporting data, the batch runner for running experiments (similar to Netlogo's BehaviorSpace) and the Mesa Library. So far, on my windows machine, I have installed: 1) Miniconda, 2) the Mesa Python library and 3) add updates. Feel free to message me if you require help. KMM'''"
   ]
  },
  {
   "cell_type": "code",
   "execution_count": 134,
   "metadata": {
    "collapsed": true
   },
   "outputs": [],
   "source": [
    "import random"
   ]
  },
  {
   "cell_type": "code",
   "execution_count": 135,
   "metadata": {
    "collapsed": true
   },
   "outputs": [],
   "source": [
    "import numpy as np"
   ]
  },
  {
   "cell_type": "code",
   "execution_count": 136,
   "metadata": {
    "collapsed": false
   },
   "outputs": [
    {
     "data": {
      "text/plain": [
       "'I also imported the random module in Python and Numpy. Matplot is optional'"
      ]
     },
     "execution_count": 136,
     "metadata": {},
     "output_type": "execute_result"
    }
   ],
   "source": [
    "'''I also imported the random module in Python and Numpy. Matplot is optional'''"
   ]
  },
  {
   "cell_type": "code",
   "execution_count": 137,
   "metadata": {
    "collapsed": true
   },
   "outputs": [],
   "source": [
    "from mesa.space import MultiGrid "
   ]
  },
  {
   "cell_type": "code",
   "execution_count": 138,
   "metadata": {
    "collapsed": false
   },
   "outputs": [
    {
     "data": {
      "text/plain": [
       "'MultiGrid imports a toriodal world'"
      ]
     },
     "execution_count": 138,
     "metadata": {},
     "output_type": "execute_result"
    }
   ],
   "source": [
    "'''MultiGrid imports a toriodal world'''"
   ]
  },
  {
   "cell_type": "code",
   "execution_count": 139,
   "metadata": {
    "collapsed": false
   },
   "outputs": [],
   "source": [
    "class Adults(Agent):\n",
    "    \"\"\"These are adults, which have money to spend on children.\"\"\"\n",
    "    def _init_(self, unique_id, model):\n",
    "        super()._init_(unique_id, model)\n",
    "        self.wealth = 1"
   ]
  },
  {
   "cell_type": "code",
   "execution_count": 140,
   "metadata": {
    "collapsed": false
   },
   "outputs": [
    {
     "data": {
      "text/plain": [
       "'Place agent with assigned x,y coordinates'"
      ]
     },
     "execution_count": 140,
     "metadata": {},
     "output_type": "execute_result"
    }
   ],
   "source": [
    "class MoneyModel(Model):\n",
    "    \"\"\"Adapted from the Mesa tutorial http://mesa.readthedocs.io/en/latest/tutorials/intro_tutorial.html\"\"\"\n",
    "def _init_(self, N, width, height):\n",
    "        self.num_agents=N\n",
    "        self.grid=MultiGrid(width, height, True)\n",
    "        self.schedule=RandomActivation(self)\n",
    "        self.running=True \n",
    "'''This is for the condition of stopping'''\n",
    "    # Create agents\n",
    "\n",
    "def step(Self):\n",
    "    if self.wealth > 0:\n",
    "        self.give_money()\n",
    "        return\n",
    "        for i in range(self.num_agents):\n",
    "            a=Adults(i, self)\n",
    "            self.schedule.add(a)\n",
    "    \n",
    "        #Add the agent to a grid cell\n",
    "        x = random.randrange(self.grid.width)\n",
    "        y = random.randrange(self.grid.height)\n",
    "        self.grid.place_agent(a,(x,y))\n",
    "'''Place agent with assigned x,y coordinates'''\n"
   ]
  },
  {
   "cell_type": "code",
   "execution_count": 141,
   "metadata": {
    "collapsed": false
   },
   "outputs": [],
   "source": [
    "class MoneyAgent(Agent): \n",
    "    def _init_(self, unique_id, model):\n",
    "        self.wealth = 1\n",
    "\n",
    "    def move(self):\n",
    "        possible_setps = self.model.grid.get_neighborhood(\n",
    "            self.pos,\n",
    "            moore=True,\n",
    "            include_center=False)\n",
    "        new_position = random-choice(possible_steps)\n",
    "        self.model.grid.move_agent(self, new_position) \n",
    "\n",
    "    def give_money(self):\n",
    "        '''The context here is the self. This is better than in Netlogo in some ways'''\n",
    "        cellmates = self.model.grid.get_cell_list_contents([self.pos])\n",
    "        if len(cellmates)>1:\n",
    "            Other=random.choice(cellmates)\n",
    "            other.wealth += 1\n",
    "            self.wealth -= 1 \n",
    "\n",
    "    def step(self):\n",
    "        self.move()\n",
    "        if self.wealth > 0:\n",
    "            self.give_money()"
   ]
  },
  {
   "cell_type": "code",
   "execution_count": 142,
   "metadata": {
    "collapsed": false
   },
   "outputs": [],
   "source": [
    "'''Now we have to import the model, and run it'''\n",
    "\n",
    "def _init_(self, unique_id, model):\n",
    "        empty_model=MoneyModel(10)\n",
    "        empty_model.step()"
   ]
  },
  {
   "cell_type": "code",
   "execution_count": 143,
   "metadata": {
    "collapsed": false
   },
   "outputs": [],
   "source": [
    "'''Now we run the model, with 50 agents on a 10 by 10 grid, and 20 steps'''\n",
    "def run_model(self):\n",
    "    model=MoneyModel(50, 10, 10)\n",
    "    for i in range(20): \n",
    "        model.step()\n",
    "        agent_wealth = [a.wealth for a in model.schedule.agents]\n",
    "        plot.hist(agent_wealth)\n",
    "        plt.show()"
   ]
  },
  {
   "cell_type": "code",
   "execution_count": 144,
   "metadata": {
    "collapsed": false
   },
   "outputs": [],
   "source": [
    "'''Mesa has a class for data collection and storage! Imported above, see compute gini below'''\n",
    "\n",
    "def compute_gini(model):\n",
    "\tagent_wealths = [agent.wealth for agent in model.schedule.agents]\n",
    "\tx = sorted(agent_wealths)\n",
    "\tN = model.num_agents\n",
    "\tB = sum( xi * (N-i) for i,xi in enumerate(x) ) / (N*sum(x))\n",
    "\treturn (1 + (1/N) - 2*B)"
   ]
  },
  {
   "cell_type": "code",
   "execution_count": null,
   "metadata": {
    "collapsed": false
   },
   "outputs": [],
   "source": [
    "'''This may be too old, please reach out via GitHub if you have any questions. KM'''"
   ]
  }
 ],
 "metadata": {
  "kernelspec": {
   "display_name": "Python 3",
   "language": "python",
   "name": "python3"
  },
  "language_info": {
   "codemirror_mode": {
    "name": "ipython",
    "version": 3
   },
   "file_extension": ".py",
   "mimetype": "text/x-python",
   "name": "python",
   "nbconvert_exporter": "python",
   "pygments_lexer": "ipython3",
   "version": "3.5.2"
  }
 },
 "nbformat": 4,
 "nbformat_minor": 1
}
